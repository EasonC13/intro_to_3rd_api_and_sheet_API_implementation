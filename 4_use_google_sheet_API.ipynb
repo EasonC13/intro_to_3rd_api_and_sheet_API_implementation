{
 "cells": [
  {
   "cell_type": "markdown",
   "metadata": {
    "ExecuteTime": {
     "end_time": "2021-12-22T02:14:08.676433Z",
     "start_time": "2021-12-22T02:14:08.673584Z"
    }
   },
   "source": [
    "[🔙 返回 【3. 實際串接 Google Sheet API】](3_connect_google_sheet_API.ipynb)　[📖 課程目錄](0_outline.ipynb#課程大綱)\n",
    "# 4. Google Sheet API 進階應用\n",
    "我們接下來要**寫入 Google Sheet**，不過這個 Google Sheet 是唯讀，所以要練習寫入我們要另外開啟一個我們能寫入 Google Sheet\n",
    "\n",
    "要開啟新的 Google Sheet，我們要使用 Google Drive API\n",
    "\n",
    "## 4.1 小測驗：嘗試讓下方程式碼能順利執行\n",
    "必要的提示：這邊我們要操作 Google Drive<br>根據[官方文件](https://developers.google.com/sheets/api/guides/authorizing)，請你於 scope 處加入 'https://www.googleapis.com/auth/drive' ，這樣你的 API 才能操作 Google Drive\n",
    "\n",
    "進一步提示請參考 hint 與 answer"
   ]
  },
  {
   "cell_type": "code",
   "execution_count": null,
   "metadata": {
    "ExecuteTime": {
     "end_time": "2021-12-24T09:04:24.894787Z",
     "start_time": "2021-12-24T09:04:24.890581Z"
    }
   },
   "outputs": [],
   "source": [
    "# 將此課程的驗證函式載入\n",
    "from evaluator_script import evaluator_script\n",
    "exec(evaluator_script)"
   ]
  },
  {
   "cell_type": "code",
   "execution_count": null,
   "metadata": {
    "ExecuteTime": {
     "end_time": "2021-12-24T09:04:30.746464Z",
     "start_time": "2021-12-24T09:04:28.788146Z"
    }
   },
   "outputs": [],
   "source": [
    "import gspread\n",
    "import pandas as pd\n",
    "import numpy as np\n",
    "from uuid import uuid4\n",
    "import os\n",
    "from datetime import datetime\n",
    "from oauth2client.service_account import ServiceAccountCredentials\n",
    "\n",
    "\n",
    "auth_json_path = './YOUR_JSON_FILE'\n",
    "\n",
    "# 這次範圍除了 Sheet，還需要有 Google Drive\n",
    "gss_scopes = ['https://spreadsheets.google.com/feeds']\n",
    "\n",
    "#連線\n",
    "credentials = ServiceAccountCredentials.from_json_keyfile_name(auth_json_path,gss_scopes)\n",
    "gss_client = gspread.authorize(credentials)\n",
    "\n",
    "# 建立新的 Sheet\n",
    "my_sheet = gss_client.create('A_new_spreadsheet')"
   ]
  },
  {
   "cell_type": "code",
   "execution_count": null,
   "metadata": {
    "ExecuteTime": {
     "end_time": "2021-12-24T09:04:40.394829Z",
     "start_time": "2021-12-24T09:04:40.387496Z"
    }
   },
   "outputs": [],
   "source": [
    "check_creat_new_sheet()"
   ]
  },
  {
   "cell_type": "code",
   "execution_count": null,
   "metadata": {
    "ExecuteTime": {
     "end_time": "2021-12-24T09:04:41.972384Z",
     "start_time": "2021-12-24T09:04:41.965666Z"
    }
   },
   "outputs": [],
   "source": [
    "hint_creat_new_sheet()"
   ]
  },
  {
   "cell_type": "code",
   "execution_count": null,
   "metadata": {
    "ExecuteTime": {
     "end_time": "2021-12-24T09:04:52.447610Z",
     "start_time": "2021-12-24T09:04:52.440675Z"
    }
   },
   "outputs": [],
   "source": [
    "answer_create_new_sheet()"
   ]
  },
  {
   "cell_type": "markdown",
   "metadata": {},
   "source": [
    "## 4.2 動手做：找出在瀏覽器查看 Google Sheet 的網址\n",
    "要能夠在瀏覽器打開 Google Sheet 有兩個步驟<br>\n"
   ]
  },
  {
   "cell_type": "markdown",
   "metadata": {},
   "source": [
    "第一步，你會需要 ID 來取得分享連結，已知你剛剛建立的 Sheet 可以用 `my_sheet.id` 取得 ID<br>\n",
    "請觀察看看既有的 Google Sheet 連結，並且把正確的開啟連結放入變數 `my_sheet_URL` 裡面"
   ]
  },
  {
   "cell_type": "code",
   "execution_count": null,
   "metadata": {
    "ExecuteTime": {
     "end_time": "2021-12-24T09:04:53.989274Z",
     "start_time": "2021-12-24T09:04:53.980437Z"
    }
   },
   "outputs": [],
   "source": [
    "my_sheet.id"
   ]
  },
  {
   "cell_type": "code",
   "execution_count": null,
   "metadata": {
    "ExecuteTime": {
     "end_time": "2021-12-24T09:04:55.433155Z",
     "start_time": "2021-12-24T09:04:55.427237Z"
    }
   },
   "outputs": [],
   "source": [
    "my_sheet_url = \"The URL to Access the Sheet\""
   ]
  },
  {
   "cell_type": "code",
   "execution_count": null,
   "metadata": {
    "ExecuteTime": {
     "end_time": "2021-12-24T09:04:59.191410Z",
     "start_time": "2021-12-24T09:04:59.184449Z"
    }
   },
   "outputs": [],
   "source": [
    "check_sheet_url()"
   ]
  },
  {
   "cell_type": "code",
   "execution_count": null,
   "metadata": {
    "ExecuteTime": {
     "end_time": "2021-12-24T09:04:59.411172Z",
     "start_time": "2021-12-24T09:04:59.402470Z"
    }
   },
   "outputs": [],
   "source": [
    "hint_sheet_url()"
   ]
  },
  {
   "cell_type": "code",
   "execution_count": null,
   "metadata": {
    "ExecuteTime": {
     "end_time": "2021-12-24T09:05:07.020349Z",
     "start_time": "2021-12-24T09:05:07.015479Z"
    }
   },
   "outputs": [],
   "source": [
    "answer_sheet_url()"
   ]
  },
  {
   "cell_type": "markdown",
   "metadata": {},
   "source": [
    "## 4.3 動手做：執行分享權限操作\n",
    "第二步，你會需要分享這個 Google Sheet 給別人<br>\n",
    "請你試著搜索 [gspread 的官方文件](https://docs.gspread.org/en/latest/index.html) 尋找對應的功能，將分享權限打開"
   ]
  },
  {
   "cell_type": "code",
   "execution_count": null,
   "metadata": {
    "ExecuteTime": {
     "end_time": "2021-12-24T09:05:10.923764Z",
     "start_time": "2021-12-24T09:05:08.939360Z"
    }
   },
   "outputs": [],
   "source": [
    "# 請將分享的程式碼放在這裡\n",
    "# 目標是你看得到文件即可\n",
    "\n",
    "check_sheet_share()"
   ]
  },
  {
   "cell_type": "code",
   "execution_count": null,
   "metadata": {
    "ExecuteTime": {
     "end_time": "2021-12-24T09:05:12.357311Z",
     "start_time": "2021-12-24T09:05:12.350057Z"
    }
   },
   "outputs": [],
   "source": [
    "hint_sheet_share()"
   ]
  },
  {
   "cell_type": "code",
   "execution_count": null,
   "metadata": {
    "ExecuteTime": {
     "end_time": "2021-12-24T09:05:12.995135Z",
     "start_time": "2021-12-24T09:05:12.987779Z"
    }
   },
   "outputs": [],
   "source": [
    "answer_sheet_share()"
   ]
  },
  {
   "cell_type": "markdown",
   "metadata": {},
   "source": [
    "## 4.4 操作示範：寫入 Sheet\n",
    "現在讓我們先執行 init 把 worksheet 寫入鐵達尼號的乘客資料，用來練習基本的欄位讀取操作"
   ]
  },
  {
   "cell_type": "code",
   "execution_count": null,
   "metadata": {
    "ExecuteTime": {
     "end_time": "2021-12-24T09:05:33.128091Z",
     "start_time": "2021-12-24T09:05:30.507239Z"
    }
   },
   "outputs": [],
   "source": [
    "worksheet = my_sheet.worksheets()[0]\n",
    "init_with_data(worksheet)"
   ]
  },
  {
   "cell_type": "code",
   "execution_count": null,
   "metadata": {
    "ExecuteTime": {
     "end_time": "2021-12-24T09:05:41.740061Z",
     "start_time": "2021-12-24T09:05:41.411844Z"
    }
   },
   "outputs": [],
   "source": [
    "# 可以看到指定欄位的內容\n",
    "worksheet.acell(\"B1\").value"
   ]
  },
  {
   "cell_type": "code",
   "execution_count": null,
   "metadata": {
    "ExecuteTime": {
     "end_time": "2021-12-24T09:05:42.305146Z",
     "start_time": "2021-12-24T09:05:42.007536Z"
    }
   },
   "outputs": [],
   "source": [
    "# 也可以透過矩陣座標軸來找指定欄位內容」\n",
    "worksheet.cell(1, 2).value"
   ]
  },
  {
   "cell_type": "code",
   "execution_count": null,
   "metadata": {
    "ExecuteTime": {
     "end_time": "2021-12-24T09:05:42.895231Z",
     "start_time": "2021-12-24T09:05:42.560203Z"
    }
   },
   "outputs": [],
   "source": [
    "# 修改指定欄位的資料\n",
    "# 值得注意的是，這邊執行完的結果是 JSON 格式回傳的\n",
    "worksheet.update_acell(\"B1\", \"Update!\")"
   ]
  },
  {
   "cell_type": "code",
   "execution_count": null,
   "metadata": {
    "ExecuteTime": {
     "end_time": "2021-12-24T09:05:44.845087Z",
     "start_time": "2021-12-24T09:05:44.507438Z"
    }
   },
   "outputs": [],
   "source": [
    "# 透座標軸修改指定欄位的資料\n",
    "worksheet.update_cell(1, 2, \"NextUpdate!\")"
   ]
  },
  {
   "cell_type": "markdown",
   "metadata": {},
   "source": [
    "## 4.5 小測驗：讀取整個 worksheet 為 Pandas DataFrame"
   ]
  },
  {
   "cell_type": "code",
   "execution_count": null,
   "metadata": {
    "ExecuteTime": {
     "end_time": "2021-12-24T09:05:47.313661Z",
     "start_time": "2021-12-24T09:05:46.537344Z"
    }
   },
   "outputs": [],
   "source": [
    "# 讀取整個 worksheet 為 Pandas DataFrame，並寫入變數 titanic_df\n",
    "titanic_df = \n",
    "check_titanic_df()"
   ]
  },
  {
   "cell_type": "code",
   "execution_count": null,
   "metadata": {
    "ExecuteTime": {
     "end_time": "2021-12-24T09:05:59.028094Z",
     "start_time": "2021-12-24T09:05:59.021101Z"
    }
   },
   "outputs": [],
   "source": [
    "hint_titanic_df()"
   ]
  },
  {
   "cell_type": "code",
   "execution_count": null,
   "metadata": {
    "ExecuteTime": {
     "end_time": "2021-12-24T09:05:59.437790Z",
     "start_time": "2021-12-24T09:05:59.435486Z"
    }
   },
   "outputs": [],
   "source": [
    "answer_titanic_df()"
   ]
  },
  {
   "cell_type": "markdown",
   "metadata": {},
   "source": [
    "## 4.6 牛刀小試2：把其他 Pandas DataFrame 寫入 Google Sheet\n",
    "在此單元，我們要利用上次大家進行小測驗的結果 DataFrame，寫入的 Google Sheet 上"
   ]
  },
  {
   "cell_type": "markdown",
   "metadata": {},
   "source": [
    "### 4.6.1 取得 answers_df\n",
    "answers_df 的 Google Sheet 網址是 https://docs.google.com/spreadsheets/d/1JvnRvPy55nOMYfdFdPveyFmpsuHYm4Q2aMg4TtoGM6I<br>\n",
    "你能把它作為 Pandas DataFrame 讀出來，寫入變數 `answers_df` 嗎？"
   ]
  },
  {
   "cell_type": "code",
   "execution_count": null,
   "metadata": {
    "ExecuteTime": {
     "end_time": "2021-12-24T09:08:25.667307Z",
     "start_time": "2021-12-24T09:08:24.391560Z"
    }
   },
   "outputs": [],
   "source": [
    "answers_df = \n",
    "check_get_answers_df()"
   ]
  },
  {
   "cell_type": "code",
   "execution_count": null,
   "metadata": {
    "ExecuteTime": {
     "end_time": "2021-12-24T09:08:28.983890Z",
     "start_time": "2021-12-24T09:08:28.980083Z"
    }
   },
   "outputs": [],
   "source": [
    "hint_get_answers_df()"
   ]
  },
  {
   "cell_type": "code",
   "execution_count": null,
   "metadata": {
    "ExecuteTime": {
     "end_time": "2021-12-24T09:08:29.283955Z",
     "start_time": "2021-12-24T09:08:29.277016Z"
    }
   },
   "outputs": [],
   "source": [
    "answer_get_answers_df()"
   ]
  },
  {
   "cell_type": "markdown",
   "metadata": {},
   "source": [
    "### 4.6.2 把剛剛的小測驗結果作為 Pandas DataFrame 寫入 My Sheet\n",
    "請試著尋找官方文件，要如何把測驗結果作為 Pandas DataFrame 寫入 My Sheet 的 work_sheet 部分呢？"
   ]
  },
  {
   "cell_type": "code",
   "execution_count": null,
   "metadata": {
    "ExecuteTime": {
     "end_time": "2021-12-24T09:08:34.778739Z",
     "start_time": "2021-12-24T09:08:33.870973Z"
    }
   },
   "outputs": [],
   "source": [
    "# 請把程式碼寫在這邊\n",
    "# 目標：把 answers_df 作為 Pandas DataFrame 寫入 work_sheet 裡面\n",
    "\n",
    "\n",
    "check_write_my_sheet()"
   ]
  },
  {
   "cell_type": "code",
   "execution_count": null,
   "metadata": {
    "ExecuteTime": {
     "end_time": "2021-12-24T09:09:06.283082Z",
     "start_time": "2021-12-24T09:09:06.275750Z"
    }
   },
   "outputs": [],
   "source": [
    "hint_write_my_sheet()"
   ]
  },
  {
   "cell_type": "code",
   "execution_count": null,
   "metadata": {
    "ExecuteTime": {
     "end_time": "2021-12-24T09:09:07.042198Z",
     "start_time": "2021-12-24T09:09:07.035287Z"
    }
   },
   "outputs": [],
   "source": [
    "answer_write_my_sheet()"
   ]
  },
  {
   "cell_type": "markdown",
   "metadata": {},
   "source": [
    "### 4.6.3 動動腦：如何把不相關的資料排除呢？\n",
    "剛剛的結果，在打開網頁後，你會發現除了 answer_df 的結果，舊的鐵達尼號資料，也還在旁邊。<br>\n",
    "要如何排除他們呢？你可以把整個 worksheet 覆蓋為 answer_df 的內容嗎？"
   ]
  },
  {
   "cell_type": "code",
   "execution_count": null,
   "metadata": {
    "ExecuteTime": {
     "end_time": "2021-12-24T09:11:01.391315Z",
     "start_time": "2021-12-24T09:11:00.411339Z"
    }
   },
   "outputs": [],
   "source": [
    "# 請把程式碼寫在這邊\n",
    "# 目標：把 work_sheet 的內容，整個覆蓋為 answers_df\n",
    "\n",
    "check_replace_sheet()"
   ]
  },
  {
   "cell_type": "code",
   "execution_count": null,
   "metadata": {
    "ExecuteTime": {
     "end_time": "2021-12-24T09:11:08.192048Z",
     "start_time": "2021-12-24T09:11:08.184767Z"
    }
   },
   "outputs": [],
   "source": [
    "hint_replace_sheet()"
   ]
  },
  {
   "cell_type": "code",
   "execution_count": null,
   "metadata": {
    "ExecuteTime": {
     "end_time": "2021-12-24T09:11:09.808412Z",
     "start_time": "2021-12-24T09:11:09.801213Z"
    }
   },
   "outputs": [],
   "source": [
    "answer_replace_sheet()"
   ]
  },
  {
   "cell_type": "markdown",
   "metadata": {
    "ExecuteTime": {
     "end_time": "2021-12-23T13:57:03.100717Z",
     "start_time": "2021-12-23T13:57:03.095714Z"
    }
   },
   "source": [
    "## 4.7 新增 TAB 並且執行 ETL 流程\n",
    "在本單元，我們將建立一個新的 Tab 並且執行 ETL 流程<br>\n",
    "ETL，是英文Extract-Transform-Load的縮寫，用來描述將資料從來源端經過抽取、轉置、載入至目的端的過程。<br>\n",
    "是作為資料科學家，最常做的事情之一。<br>\n"
   ]
  },
  {
   "cell_type": "markdown",
   "metadata": {},
   "source": [
    "### 4.7.1 實作：基於 my_sheet 建立一個新的 worksheet 將其 title 設為 Titanic"
   ]
  },
  {
   "cell_type": "code",
   "execution_count": null,
   "metadata": {
    "ExecuteTime": {
     "end_time": "2021-12-24T09:11:18.263625Z",
     "start_time": "2021-12-24T09:11:17.594620Z"
    }
   },
   "outputs": [],
   "source": [
    "# 建立一個 Sheet 將其 title 設為 Titanic\n",
    "# 請在此寫程式碼\n",
    "\n",
    "\n",
    "check_titanic_create_sheet()"
   ]
  },
  {
   "cell_type": "code",
   "execution_count": null,
   "metadata": {
    "ExecuteTime": {
     "end_time": "2021-12-24T09:11:24.309133Z",
     "start_time": "2021-12-24T09:11:24.303005Z"
    }
   },
   "outputs": [],
   "source": [
    "hint_titanic_create_sheet()"
   ]
  },
  {
   "cell_type": "code",
   "execution_count": null,
   "metadata": {
    "ExecuteTime": {
     "end_time": "2021-12-24T09:11:28.845175Z",
     "start_time": "2021-12-24T09:11:28.838679Z"
    }
   },
   "outputs": [],
   "source": [
    "answer_titanic_create_sheet()"
   ]
  },
  {
   "cell_type": "markdown",
   "metadata": {},
   "source": [
    "### 4.7.2 將 titanic_df 寫進去"
   ]
  },
  {
   "cell_type": "code",
   "execution_count": null,
   "metadata": {
    "ExecuteTime": {
     "end_time": "2021-12-24T09:11:36.019436Z",
     "start_time": "2021-12-24T09:11:35.047233Z"
    }
   },
   "outputs": [],
   "source": [
    "# 執行下列程式碼，可取得鐵達尼號的乘客資料\n",
    "titanic_df = get_titanic_data()"
   ]
  },
  {
   "cell_type": "code",
   "execution_count": null,
   "metadata": {
    "ExecuteTime": {
     "end_time": "2021-12-24T09:11:45.475758Z",
     "start_time": "2021-12-24T09:11:44.171445Z"
    }
   },
   "outputs": [],
   "source": [
    "# 將 titanic_df 寫進去\n",
    "\n",
    "# 請在此寫程式碼\n",
    "\n",
    "\n",
    "check_titanic_data_load()"
   ]
  },
  {
   "cell_type": "code",
   "execution_count": null,
   "metadata": {
    "ExecuteTime": {
     "end_time": "2021-12-24T09:11:49.919439Z",
     "start_time": "2021-12-24T09:11:49.912599Z"
    }
   },
   "outputs": [],
   "source": [
    "hint_titanic_data_load()"
   ]
  },
  {
   "cell_type": "code",
   "execution_count": null,
   "metadata": {
    "ExecuteTime": {
     "end_time": "2021-12-24T09:11:51.108712Z",
     "start_time": "2021-12-24T09:11:51.101865Z"
    }
   },
   "outputs": [],
   "source": [
    "answer_titanic_data_load()"
   ]
  },
  {
   "cell_type": "markdown",
   "metadata": {},
   "source": [
    "## 4.8 執行 ETL 流程\n",
    "仔細看 Titanic 的資料，你會發現有 Survived 的欄位，這指出該名乘客是否生還，以及他的艙等（Pclass）<br>\n",
    "現在我們要來萃取這些資料，並且對於已經死亡的乘客，在 Name 前面加上一個小小的十字架符號「✞」，並且寫回 Google Sheet。\n",
    "\n",
    "如「Braund, Mr. Owen Harris」是死亡的，那他的名字就會被改為「✞Braund, Mr. Owen Harris」<br>\n",
    "而「Cumings, Mrs. John Bradley」沒有死亡，那他的名字就維持「Cumings, Mrs. John Bradley」\n",
    "\n",
    "之後請將結果寫回 Google Sheet"
   ]
  },
  {
   "cell_type": "code",
   "execution_count": null,
   "metadata": {
    "ExecuteTime": {
     "end_time": "2021-12-24T09:12:03.457951Z",
     "start_time": "2021-12-24T09:12:03.451822Z"
    }
   },
   "outputs": [],
   "source": [
    "# 請將你 ETL 的程式碼寫在這邊\n",
    "cross_symbol = '✞'\n",
    "\n",
    "check_etl()"
   ]
  },
  {
   "cell_type": "code",
   "execution_count": null,
   "metadata": {
    "ExecuteTime": {
     "end_time": "2021-12-24T09:12:16.614478Z",
     "start_time": "2021-12-24T09:12:16.606597Z"
    }
   },
   "outputs": [],
   "source": [
    "hint_etl()"
   ]
  },
  {
   "cell_type": "code",
   "execution_count": null,
   "metadata": {
    "ExecuteTime": {
     "end_time": "2021-12-24T09:12:28.298846Z",
     "start_time": "2021-12-24T09:12:28.291947Z"
    }
   },
   "outputs": [],
   "source": [
    "answer_etl()"
   ]
  },
  {
   "cell_type": "markdown",
   "metadata": {
    "ExecuteTime": {
     "end_time": "2021-12-23T13:58:00.369709Z",
     "start_time": "2021-12-23T13:58:00.364527Z"
    }
   },
   "source": [
    "# 課程結束\n",
    "感謝你的參與，請填寫回饋表單給予回饋"
   ]
  },
  {
   "cell_type": "markdown",
   "metadata": {
    "ExecuteTime": {
     "end_time": "2021-12-23T13:58:00.787467Z",
     "start_time": "2021-12-23T13:58:00.783869Z"
    }
   },
   "source": [
    "## [課程回饋表單（請點我填寫）](https://docs.google.com/forms/d/e/1FAIpQLSfylhNu_ERlGM-Qpto6xHJNM-hvuhKSaTWf1DdpubHGMoqabw/viewform?usp=sf_link)\n",
    "本課程為 [怡升 EasonC13](https://github.com/EasonC13) 在「線上課程設計」製作的期末專題。<br>\n",
    "請你填寫回饋表單，幫助課程未來能做得更好。<br>如果有任何改進，也歡迎[至 GitHub 發 PR](https://github.com/EasonC13/online_course_zh_intro_to_3rd_api_and_sheet_API_implementation)"
   ]
  },
  {
   "cell_type": "markdown",
   "metadata": {},
   "source": [
    "### [課程錯誤回報表單（請點我填寫）](https://docs.google.com/forms/d/e/1FAIpQLSfVIGFf-DMYVVp_HDJuVH1eTRxxCJpSelW2BhZTnY8zAPFUoQ/viewform?usp=sf_link)\n",
    "如果遇到任何錯誤，請你填寫表單進行回報"
   ]
  },
  {
   "cell_type": "markdown",
   "metadata": {
    "ExecuteTime": {
     "end_time": "2021-12-23T13:58:01.013377Z",
     "start_time": "2021-12-23T13:58:01.008043Z"
    }
   },
   "source": [
    "## 延伸學習與閱讀資源\n",
    "TBA"
   ]
  }
 ],
 "metadata": {
  "kernelspec": {
   "display_name": "Python 3",
   "language": "python",
   "name": "python3"
  },
  "language_info": {
   "codemirror_mode": {
    "name": "ipython",
    "version": 3
   },
   "file_extension": ".py",
   "mimetype": "text/x-python",
   "name": "python",
   "nbconvert_exporter": "python",
   "pygments_lexer": "ipython3",
   "version": "3.8.3"
  },
  "toc": {
   "base_numbering": 1,
   "nav_menu": {},
   "number_sections": true,
   "sideBar": false,
   "skip_h1_title": false,
   "title_cell": "Table of Contents",
   "title_sidebar": "Contents",
   "toc_cell": false,
   "toc_position": {
    "height": "369.75px",
    "left": "27.9883px",
    "top": "111.059px",
    "width": "201.598px"
   },
   "toc_section_display": false,
   "toc_window_display": false
  }
 },
 "nbformat": 4,
 "nbformat_minor": 4
}
