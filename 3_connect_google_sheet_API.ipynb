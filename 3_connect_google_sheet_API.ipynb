{
 "cells": [
  {
   "cell_type": "markdown",
   "metadata": {},
   "source": [
    "[🔙 返回 【2. 常見的第三方 API，以 Google 為例】](2_intro_to_3rd_API.ipynb)　[📖 課程目錄](0_outline.ipynb#課程大綱)\n",
    "# 3. 實際串接 Google Sheet API"
   ]
  },
  {
   "cell_type": "markdown",
   "metadata": {},
   "source": [
    "在這個單元，我們將實際串接 Google Sheet 來進行資料的互動<br>\n",
    "首先我們要安裝 gspread 套件，接著要來申請許可證。<br>\n",
    "\n",
    "執行下方 Cell 即可安裝 gspread 套件，<br>如果你有設定自己的 Python 環境，請自行複製下方指令碼去安裝\n"
   ]
  },
  {
   "cell_type": "code",
   "execution_count": null,
   "metadata": {
    "ExecuteTime": {
     "end_time": "2021-12-24T09:01:42.712530Z",
     "start_time": "2021-12-24T09:01:40.353993Z"
    }
   },
   "outputs": [],
   "source": [
    "!pip install gspread"
   ]
  },
  {
   "cell_type": "code",
   "execution_count": null,
   "metadata": {
    "ExecuteTime": {
     "end_time": "2021-12-24T09:01:45.376025Z",
     "start_time": "2021-12-24T09:01:45.363748Z"
    }
   },
   "outputs": [],
   "source": [
    "# 將此課程的驗證函式載入\n",
    "from evaluator_script import evaluator_script\n",
    "exec(evaluator_script)"
   ]
  },
  {
   "cell_type": "markdown",
   "metadata": {},
   "source": [
    "## 3.1 串接 Gogle API\n",
    "接著請跟隨下方影片使用 Google 帳號串接 Google API<br>（執行程式碼即可看到影片）<br>https://www.youtube.com/watch?v=sQgVWhlpSak<br>\n",
    "影片會用到的網址： https://cloud.google.com/gcp/?hl=zh-tw"
   ]
  },
  {
   "cell_type": "code",
   "execution_count": null,
   "metadata": {
    "ExecuteTime": {
     "end_time": "2021-12-24T09:02:48.177502Z",
     "start_time": "2021-12-24T09:02:48.058776Z"
    }
   },
   "outputs": [],
   "source": [
    "from IPython.display import YouTubeVideo\n",
    "YouTubeVideo('sQgVWhlpSak', width=1280/1.5, height=720/1.5)"
   ]
  },
  {
   "cell_type": "code",
   "execution_count": null,
   "metadata": {
    "ExecuteTime": {
     "end_time": "2021-12-24T09:02:04.267624Z",
     "start_time": "2021-12-24T09:02:04.063360Z"
    }
   },
   "outputs": [],
   "source": [
    "import gspread\n",
    "import pandas as pd\n",
    "import numpy as np\n",
    "from uuid import uuid4\n",
    "import os\n",
    "from datetime import datetime\n",
    "from oauth2client.service_account import ServiceAccountCredentials\n",
    "\n",
    "auth_json_path = './YOUR_JSON_FILE'\n",
    "\n",
    "# 我們使用的範圍僅有 Google Sheet\n",
    "gss_scopes = ['https://spreadsheets.google.com/feeds']\n",
    "\n",
    "#連線\n",
    "credentials = ServiceAccountCredentials.from_json_keyfile_name(auth_json_path,gss_scopes)\n",
    "gss_client = gspread.authorize(credentials)\n"
   ]
  },
  {
   "cell_type": "code",
   "execution_count": null,
   "metadata": {
    "ExecuteTime": {
     "end_time": "2021-12-24T09:03:21.233138Z",
     "start_time": "2021-12-24T09:03:20.862768Z"
    }
   },
   "outputs": [],
   "source": [
    "# 下方程式碼成功執行，即代表成功登入\n",
    "result = gss_client.open_by_key(\"1JvnRvPy55nOMYfdFdPveyFmpsuHYm4Q2aMg4TtoGM6I\")\n",
    "result"
   ]
  },
  {
   "cell_type": "markdown",
   "metadata": {},
   "source": [
    "## 3.2 GSpread 基礎操作"
   ]
  },
  {
   "cell_type": "code",
   "execution_count": null,
   "metadata": {
    "ExecuteTime": {
     "end_time": "2021-12-24T09:03:22.553489Z",
     "start_time": "2021-12-24T09:03:22.217237Z"
    }
   },
   "outputs": [],
   "source": [
    "sheet = result.worksheets()[0]"
   ]
  },
  {
   "cell_type": "code",
   "execution_count": null,
   "metadata": {
    "ExecuteTime": {
     "end_time": "2021-12-24T09:03:23.874129Z",
     "start_time": "2021-12-24T09:03:23.591165Z"
    }
   },
   "outputs": [],
   "source": [
    "import pandas as pd\n",
    "df = pd.DataFrame(sheet.get_all_records())"
   ]
  },
  {
   "cell_type": "code",
   "execution_count": null,
   "metadata": {
    "ExecuteTime": {
     "end_time": "2021-12-24T09:03:24.279491Z",
     "start_time": "2021-12-24T09:03:24.241781Z"
    },
    "scrolled": true
   },
   "outputs": [],
   "source": [
    "df"
   ]
  },
  {
   "cell_type": "markdown",
   "metadata": {},
   "source": [
    "## 3.3 小測驗：檢查特定帳號是否填寫問卷\n",
    "接著我們要利用 Pandas 的基本操作，來檢查特定帳號是否有填寫問卷"
   ]
  },
  {
   "cell_type": "code",
   "execution_count": null,
   "metadata": {
    "ExecuteTime": {
     "end_time": "2021-12-24T09:03:47.101117Z",
     "start_time": "2021-12-24T09:03:47.094961Z"
    }
   },
   "outputs": [],
   "source": [
    "def email_is_finish(email = 'example@gmail.com'):\n",
    "    # 請在這裡檢查此 email 是否有填寫過問卷，並將結果以 Bool 回傳\n",
    "    return "
   ]
  },
  {
   "cell_type": "code",
   "execution_count": null,
   "metadata": {
    "ExecuteTime": {
     "end_time": "2021-12-24T09:03:48.628298Z",
     "start_time": "2021-12-24T09:03:48.621830Z"
    }
   },
   "outputs": [],
   "source": [
    "email_is_finish('example@gmail.com')"
   ]
  },
  {
   "cell_type": "code",
   "execution_count": null,
   "metadata": {
    "ExecuteTime": {
     "end_time": "2021-12-24T09:03:48.965121Z",
     "start_time": "2021-12-24T09:03:48.957690Z"
    }
   },
   "outputs": [],
   "source": [
    "check_email_is_finish()"
   ]
  },
  {
   "cell_type": "code",
   "execution_count": null,
   "metadata": {
    "ExecuteTime": {
     "end_time": "2021-12-24T09:04:13.978213Z",
     "start_time": "2021-12-24T09:04:13.970567Z"
    }
   },
   "outputs": [],
   "source": [
    "#hint\n",
    "hint_check_account_is_finish()"
   ]
  },
  {
   "cell_type": "code",
   "execution_count": null,
   "metadata": {
    "ExecuteTime": {
     "end_time": "2021-12-24T09:04:14.527958Z",
     "start_time": "2021-12-24T09:04:14.520582Z"
    }
   },
   "outputs": [],
   "source": [
    "#answer\n",
    "answer_check_account_is_finish()"
   ]
  },
  {
   "cell_type": "markdown",
   "metadata": {},
   "source": [
    "## 3.4 範例展示：列出所有填寫者與他們的成績"
   ]
  },
  {
   "cell_type": "code",
   "execution_count": null,
   "metadata": {
    "ExecuteTime": {
     "end_time": "2021-12-24T09:04:17.255460Z",
     "start_time": "2021-12-24T09:04:17.241346Z"
    }
   },
   "outputs": [],
   "source": [
    "# 列出所有填寫者，與他們的成績吧！\n",
    "# 這段就不練習了，因為有各種列出方法\n",
    "# 在此使用作者認為最方便的做法，歡迎自行修改嘗試不同做法\n",
    "\n",
    "for _, row in df.sort_values(\"分數\", ascending= False).iterrows():\n",
    "    print(f\"{row['你的信箱']}:\\t{row['分數']}\")"
   ]
  },
  {
   "cell_type": "markdown",
   "metadata": {},
   "source": [
    "## 3.5 課程補充\n",
    "GSpread 這邊我們之所以不用 Requests，是因為他已經幫我們包在裡面了\n",
    "\n",
    "如果你去看[原始碼](https://github.com/burnash/gspread/blob/master/gspread/spreadsheet.py)，你會發線他幫我們做了很多事情\n",
    "\n",
    "不只是 Google Sheet，其他的 API 也會有人幫忙寫好串接方法，可以省下我們很多的時間，因此強烈建議你再動手串接前，先去找尋別人寫好的串接套件喔\n",
    "\n",
    "更多用法請見 GSpread 官方文件 https://docs.gspread.org/en/latest/user-guide.html"
   ]
  },
  {
   "cell_type": "markdown",
   "metadata": {
    "ExecuteTime": {
     "end_time": "2021-12-23T13:58:00.369709Z",
     "start_time": "2021-12-23T13:58:00.364527Z"
    }
   },
   "source": [
    "# 下一步\n",
    "現在我們已經會讀取 Google Sheet 上面的內容。<br>\n",
    "接下來我們要寫入 Google Sheet 的內容，並在 Google Sheet 上執行資料處理（ETL）操作\n",
    "### [👉 前往【4. Google Sheet API 進階應用】](./4_use_google_sheet_API.ipynb)"
   ]
  },
  {
   "cell_type": "markdown",
   "metadata": {
    "ExecuteTime": {
     "end_time": "2021-12-23T13:58:00.787467Z",
     "start_time": "2021-12-23T13:58:00.783869Z"
    }
   },
   "source": [
    "## [課程回饋表單（請點我填寫）](https://docs.google.com/forms/d/e/1FAIpQLSfylhNu_ERlGM-Qpto6xHJNM-hvuhKSaTWf1DdpubHGMoqabw/viewform?usp=sf_link)\n",
    "本課程為 [怡升 EasonC13](https://github.com/EasonC13) 在「線上課程設計」製作的期末專題。<br>\n",
    "請你填寫回饋表單，幫助課程未來能做得更好。<br>如果有任何改進，也歡迎[至 GitHub 發 PR](https://github.com/EasonC13/online_course_zh_intro_to_3rd_api_and_sheet_API_implementation)"
   ]
  },
  {
   "cell_type": "markdown",
   "metadata": {},
   "source": [
    "### [課程錯誤回報表單（請點我填寫）](https://docs.google.com/forms/d/e/1FAIpQLSfVIGFf-DMYVVp_HDJuVH1eTRxxCJpSelW2BhZTnY8zAPFUoQ/viewform?usp=sf_link)\n",
    "如果遇到任何錯誤，請你填寫表單進行回報"
   ]
  },
  {
   "cell_type": "markdown",
   "metadata": {
    "ExecuteTime": {
     "end_time": "2021-12-23T13:58:01.013377Z",
     "start_time": "2021-12-23T13:58:01.008043Z"
    }
   },
   "source": [
    "## 延伸學習與閱讀資源\n",
    "TBA"
   ]
  }
 ],
 "metadata": {
  "kernelspec": {
   "display_name": "Python 3",
   "language": "python",
   "name": "python3"
  },
  "language_info": {
   "codemirror_mode": {
    "name": "ipython",
    "version": 3
   },
   "file_extension": ".py",
   "mimetype": "text/x-python",
   "name": "python",
   "nbconvert_exporter": "python",
   "pygments_lexer": "ipython3",
   "version": "3.8.3"
  },
  "toc": {
   "base_numbering": 1,
   "nav_menu": {},
   "number_sections": true,
   "sideBar": false,
   "skip_h1_title": false,
   "title_cell": "Table of Contents",
   "title_sidebar": "Contents",
   "toc_cell": false,
   "toc_position": {
    "height": "369.75px",
    "left": "27.9883px",
    "top": "111.059px",
    "width": "201.598px"
   },
   "toc_section_display": false,
   "toc_window_display": false
  }
 },
 "nbformat": 4,
 "nbformat_minor": 4
}
