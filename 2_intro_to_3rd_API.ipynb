{
 "cells": [
  {
   "cell_type": "markdown",
   "metadata": {},
   "source": [
    "[🔙 返回 【1. 什麼是 API?】](1_what_is_API.ipynb)　[📖 課程目錄](0_outline.ipynb#課程大綱)\n",
    "# 2. 常見的第三方 API，以 Google 為例 \n",
    "\n",
    "\n",
    "## 2.1 Vision API\n",
    "\n",
    "Vision API 就像是 Google 的圖片搜尋功能，能夠透過 AI 技術讓機器辨識圖片中的內容，如人臉、動物、圖片中的文字，還可以偵測是否有暴力或色情內容。簡單而言，Vision API 會自動辨認照片出現的物品並逐一標記標籤。\n",
    "\n",
    "如下圖，就是使用 Vision API 辨識 Woman Yelling at a Cat 這張圖的結果\n",
    "\n",
    "[實際試用 Vision API 點我](https://cloud.google.com/vision/?hl=zh-tw&utm_source=google&utm_medium=cpc&utm_campaign=japac-TW-all-en-dr-skws-all-super-trial-e-dr-1009882&utm_content=text-ad-none-none-DEV_c-CRE_260315760698-ADGP_Hybrid%20%7C%20SKWS%20-%20EXA%20%7C%20Txt%20~%20AI%20%26%20ML%20~%20Vision%20AI_Vision-cloud%20vision%20api-KWID_43700028140246097-kwd-370823226447&userloc_9040379-network_g&utm_term=KW_cloud%20vision%20api&gclsrc=ds&gclsrc=ds&gclid=CK7Lgo3Z8_QCFQUevAod0tIDXw#section-2)\n",
    "\n",
    "![](https://i.imgur.com/YQMltDr.png)\n",
    "\n",
    "## 2.2 Video Intelligence API\n",
    "就像是影片版的 Vision API，能夠標記影片的內容。能夠用於影片內容審核，識別不當內容在指定影片中出現的時間點。或利用 Video Intelligence API 產生的標籤及使用者的觀看記錄和偏好設定來建立內容推薦引擎等。如下圖能即時標記運動員的走向。\n",
    "\n",
    "[API 介紹](https://cloud.google.com/video-intelligence/?hl=zh-tw&utm_source=google&utm_medium=cpc&utm_campaign=japac-TW-all-zh-dr-bkws-all-all-trial-e-dr-1009882&utm_content=text-ad-none-none-DEV_c-CRE_285138853897-ADGP_Hybrid%20%7C%20BKWS%20-%20EXA%20%7C%20Txt%20~%20AI%20%26%20ML%20~%20Video%20AI_Video-api-en-KWID_43700065973547805-kwd-308424274300&userloc_9040379-network_g&utm_term=KW_google%20video%20intelligence%20api&gclsrc=ds&gclsrc=ds&gclid=CMvn_obo8_QCFYk7vAodzjQD7g)\n",
    "\n",
    "![](https://miro.medium.com/max/1200/1*By9MDAPimrDOPcxLQ1DvAA.gif)\n",
    "\n",
    "## 2.3 Google Sheet API\n",
    "\n",
    "Google Sheet 是 Google 提供的試算表系統，我們能使用 Sheet API 來讀取、寫入 Google Sheet 上面的內容\n",
    "\n",
    "## 2.4 Translate API\n",
    "\n",
    "使用 API 來達成 Google 翻譯的功能，可即時將句子翻譯成各國語言。\n",
    "\n",
    "![](https://i.imgur.com/MkwGYjG.png)\n",
    "\n",
    "\n",
    "## 2.5 Speech to Text / Text to Speech API\n",
    "\n",
    "\n",
    "完成語音轉文字、文字轉語音的功能。使用者只需要說出要輸入的文字，API 就會自動把所說的話即時轉換成文字，省略打字環節。或者是要機器發聲時，即可立刻產生語音。\n",
    "\n",
    "\n",
    "## 2.6 Google Natural Language API\n",
    "\n",
    "除了看與聽，Google Natural Language API 也能進一步了解語意與情緒。只要輸入一段文字，Natural Language API 便能判斷此段文字的正面、負面或是中性情緒，並給予相對分數，且能萃取關鍵字、斷字等處理，供使用者進一步評估。透過 Natural Language API 自動分析語句功能，便可初步了解使用者的意圖，進而做到許多智慧化的功能。\n",
    "\n",
    "![](https://i.imgur.com/KSVJZ2q.png)"
   ]
  },
  {
   "cell_type": "markdown",
   "metadata": {},
   "source": [
    "## 2.7 測驗：請進行配對\n",
    "\n",
    "### [測驗連結請點我](https://forms.gle/JNVjrCt41SAQkPN67)\n",
    "\n",
    "\n",
    "[點我查看正確解答](https://docs.google.com/forms/d/e/1FAIpQLScyqMPiYD6F6eyNInr6VIDaZFvQWIABb-K1pQqr-l2V8WnURg/viewscore?viewscore=AE0zAgB86XcHUiUum4zy1GKrVj-M7bqu_HJsuy5I19pP7ze8F1eQMgg-aeijIiPM6xZn-7o)\n",
    "\n",
    "<!--\n",
    "阿明想要整理他去猴硐貓村的照片，挑選出其中有貓也有人的部分，不過量實在太多，要一張一張挑選很累。你會建議他使用哪個 API？\n",
    "\n",
    "\n",
    "小美家族出遊，大家帶錄影機拍了一堆的影片，小美想要進行初步的影片內容篩選與分類，你會建議他使用哪個 API?\n",
    "\n",
    "\n",
    "小華建立一個網站做實驗，實驗完成後要受試者填寫問卷才能結束，小華決定使用 Google 表單給受試者填寫。不過每次都要手動確認填寫結果才宣布實驗結束實在很累，你會建議他使用哪個 API 來把檢查表單填寫結果的流程自動化？\n",
    "\n",
    "小陳想要讓自己的程式能夠接收各國語言的文字指令，請問他應該使用哪個 API？\n",
    "\n",
    "小張想要打造一個語音助理，不僅能支援聲控，還能朗讀查找到的資料。他應該使用哪個 API？\n",
    "\n",
    "小怡想要收集學生對學校的意見，不過因為評論的同學實在太多，一個一個看很花時間，因此想要開發一個自動分析評論的方法，你會建議他使用哪一個 API？-->"
   ]
  },
  {
   "cell_type": "markdown",
   "metadata": {
    "ExecuteTime": {
     "end_time": "2021-12-23T13:58:00.369709Z",
     "start_time": "2021-12-23T13:58:00.364527Z"
    }
   },
   "source": [
    "# 下一步\n",
    "在學會各種第三方的 API 後，讓我們來實際串接 Google Sheet API 吧～\n",
    "\n",
    "### [👉 前往【3. 實際串接 Google Sheet API】](./3_connect_google_sheet_API.ipynb)"
   ]
  },
  {
   "cell_type": "markdown",
   "metadata": {
    "ExecuteTime": {
     "end_time": "2021-12-23T13:58:00.787467Z",
     "start_time": "2021-12-23T13:58:00.783869Z"
    }
   },
   "source": [
    "## [課程回饋表單（請點我填寫）](https://docs.google.com/forms/d/e/1FAIpQLSfylhNu_ERlGM-Qpto6xHJNM-hvuhKSaTWf1DdpubHGMoqabw/viewform?usp=sf_link)\n",
    "本課程為 [怡升 EasonC13](https://github.com/EasonC13) 在「線上課程設計」製作的期末專題。<br>\n",
    "請你填寫回饋表單，幫助課程未來能做得更好。<br>如果有任何改進，也歡迎[至 GitHub 發 PR](https://github.com/EasonC13/online_course_zh_intro_to_3rd_api_and_sheet_API_implementation)"
   ]
  },
  {
   "cell_type": "markdown",
   "metadata": {},
   "source": [
    "### [課程錯誤回報表單（請點我填寫）](https://docs.google.com/forms/d/e/1FAIpQLSfVIGFf-DMYVVp_HDJuVH1eTRxxCJpSelW2BhZTnY8zAPFUoQ/viewform?usp=sf_link)\n",
    "如果遇到任何錯誤，請你填寫表單進行回報"
   ]
  },
  {
   "cell_type": "markdown",
   "metadata": {
    "ExecuteTime": {
     "end_time": "2021-12-23T13:58:01.013377Z",
     "start_time": "2021-12-23T13:58:01.008043Z"
    }
   },
   "source": [
    "## 延伸學習與閱讀資源\n",
    "TBA"
   ]
  }
 ],
 "metadata": {
  "kernelspec": {
   "display_name": "Python 3",
   "language": "python",
   "name": "python3"
  },
  "language_info": {
   "codemirror_mode": {
    "name": "ipython",
    "version": 3
   },
   "file_extension": ".py",
   "mimetype": "text/x-python",
   "name": "python",
   "nbconvert_exporter": "python",
   "pygments_lexer": "ipython3",
   "version": "3.8.3"
  },
  "toc": {
   "base_numbering": 1,
   "nav_menu": {},
   "number_sections": true,
   "sideBar": false,
   "skip_h1_title": false,
   "title_cell": "Table of Contents",
   "title_sidebar": "Contents",
   "toc_cell": false,
   "toc_position": {
    "height": "369.75px",
    "left": "27.9883px",
    "top": "111.059px",
    "width": "201.598px"
   },
   "toc_section_display": false,
   "toc_window_display": false
  }
 },
 "nbformat": 4,
 "nbformat_minor": 4
}
