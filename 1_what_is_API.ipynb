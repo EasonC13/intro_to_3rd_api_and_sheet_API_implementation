{
 "cells": [
  {
   "cell_type": "markdown",
   "metadata": {},
   "source": [
    "[🔙 返回 【0. 課程介紹】](0_outline.ipynb)　[📖 課程目錄](0_outline.ipynb#課程大綱)\n",
    "# 1. 什麼是 API?\n",
    "當你上Google搜尋 API，你會看到它解釋為 應用程式介面，也就是Application Programming Interface 的縮寫，扮演應用程式和應用程式之間的橋樑。\n",
    "\n",
    "API 就像一個介面，可以幫助開發者串接其他的應用程式，使用他們的功能，節省自己開發的精力，並很快的達到目的。\n",
    "\n",
    "舉個例子，當你肚子餓去麥當勞點餐，你想吃大麥克，你會這樣做\n",
    "1. 你跟店員說你要點一號餐大麥克\n",
    "2. 你等待出餐\n",
    "3. 店員給你一個大麥克\n",
    "\n",
    "這就蘊含一個 API 的概念。剛剛的大麥克就是「你想得到的資料」，而跟店員說這個行為，就是發出一個 API 呼叫給店員這個「應用程式」請他給你大麥克，並且在最後收到他回傳給你的資料「大麥克」。\n",
    "\n",
    "<img src=\"https://image6.thenewslens.com/2020/10/i3gjbnyft8k6wohctew4djg0xj63yy.jpg?auto=compress&fit=crop&h=648&q=85&updated_at=2020-10-15-12-15-52&w=1080\" alt=\"drawing\" align=\"left\" style=\"width:40%; margin-right: 60%; text-align: laft;\"/><br><br>\n",
    "\n"
   ]
  },
  {
   "cell_type": "markdown",
   "metadata": {},
   "source": [
    "若想知道更多，請[觀看下方影片](https://www.youtube.com/watch?v=zvKadd9Cflc)（選擇性）"
   ]
  },
  {
   "cell_type": "code",
   "execution_count": null,
   "metadata": {
    "ExecuteTime": {
     "end_time": "2021-12-24T10:00:28.338044Z",
     "start_time": "2021-12-24T10:00:27.291808Z"
    }
   },
   "outputs": [],
   "source": [
    "# 執行此程式碼以檢視影片\n",
    "from IPython.display import YouTubeVideo, HTML\n",
    "YouTubeVideo(id='zvKadd9Cflc', width=1280/1.5, height=720/1.5)"
   ]
  },
  {
   "cell_type": "markdown",
   "metadata": {},
   "source": [
    "在 Python 程式碼中，要呼叫其他人的 API，最常見的做法是使用 Requests 套件去呼叫其他人的應用程式；並取得相應的回應(response)。\n",
    "\n",
    "如下方程式能取得現在的 IP。"
   ]
  },
  {
   "cell_type": "code",
   "execution_count": 5,
   "metadata": {
    "ExecuteTime": {
     "end_time": "2021-12-24T08:59:16.100254Z",
     "start_time": "2021-12-24T08:59:14.991796Z"
    }
   },
   "outputs": [
    {
     "name": "stdout",
     "output_type": "stream",
     "text": [
      "My current IP is 118.165.3.33\n",
      "\n"
     ]
    }
   ],
   "source": [
    "import requests \n",
    "# rename to 'response' for matching the object name defined in request lib\n",
    "response = requests.get(\"https://ip.me\")\n",
    "# f-str syntax do not support below 3.6 ver or install backport of f-str ( future-fstrings )\n",
    "print(\"My current IP is {}\".format(response.text))"
   ]
  },
  {
   "cell_type": "code",
   "execution_count": 6,
   "metadata": {
    "ExecuteTime": {
     "end_time": "2021-12-24T08:59:16.614515Z",
     "start_time": "2021-12-24T08:59:16.609281Z"
    }
   },
   "outputs": [
    {
     "data": {
      "text/plain": [
       "'118.165.3.33\\n'"
      ]
     },
     "execution_count": 6,
     "metadata": {},
     "output_type": "execute_result"
    }
   ],
   "source": [
    "response.text"
   ]
  },
  {
   "cell_type": "markdown",
   "metadata": {},
   "source": [
    "你會注意到，這個 API 回傳的是純文字，\\\\n 的意思是換行。\n",
    "\n",
    "但不是所有的 API 都是如此，大多數的 API 會使用 **JSON 格式** 來進行溝通。"
   ]
  },
  {
   "cell_type": "markdown",
   "metadata": {
    "ExecuteTime": {
     "end_time": "2021-12-21T00:45:28.275568Z",
     "start_time": "2021-12-21T00:45:28.270498Z"
    }
   },
   "source": [
    "## 1.1 JSON 格式\n",
    "JSON (JavaScript Object Notation) 是一種輕量級*資料交換格式*。其內容由屬性和值所組成，因此也有易於閱讀和處理的優勢。\n",
    "\n",
    "JSON 是獨立於程式語言的資料格式，不僅是 JavaScript，各種語言都支援解析 JSON 格式的資料，因此 API 經常使用 JSON 格式來傳送資料。\n",
    "\n",
    "下方的 API 能夠取得現在的時間，並回傳JSON格式的結果，而我們仍能藉由`response.text`取得整體資訊的字串..."
   ]
  },
  {
   "cell_type": "code",
   "execution_count": 10,
   "metadata": {
    "ExecuteTime": {
     "end_time": "2021-12-24T08:59:20.229699Z",
     "start_time": "2021-12-24T08:59:20.083158Z"
    }
   },
   "outputs": [
    {
     "data": {
      "text/plain": [
       "'{\"abbreviation\":\"CST\",\"client_ip\":\"118.165.3.33\",\"datetime\":\"2021-12-25T11:57:06.038064+08:00\",\"day_of_week\":6,\"day_of_year\":359,\"dst\":false,\"dst_from\":null,\"dst_offset\":0,\"dst_until\":null,\"raw_offset\":28800,\"timezone\":\"Asia/Taipei\",\"unixtime\":1640404626,\"utc_datetime\":\"2021-12-25T03:57:06.038064+00:00\",\"utc_offset\":\"+08:00\",\"week_number\":51}'"
      ]
     },
     "execution_count": 10,
     "metadata": {},
     "output_type": "execute_result"
    }
   ],
   "source": [
    "response = requests.get(\"http://worldtimeapi.org/api/timezone/Asia/Taipei\")\n",
    "response.text"
   ]
  },
  {
   "cell_type": "markdown",
   "metadata": {},
   "source": [
    "若想知道更多 JSON 格式的細節，請[觀看下方影片](https://www.youtube.com/watch?v=zvKadd9Cflc)（選擇性）<br>記得開啟 cc 字幕"
   ]
  },
  {
   "cell_type": "code",
   "execution_count": null,
   "metadata": {
    "ExecuteTime": {
     "end_time": "2021-12-24T10:01:19.663584Z",
     "start_time": "2021-12-24T10:01:19.605572Z"
    }
   },
   "outputs": [],
   "source": [
    "# 執行此程式碼以檢視影片\n",
    "from IPython.display import YouTubeVideo\n",
    "YouTubeVideo('iiADhChRriM', width=1280/1.5, height=720/1.5)"
   ]
  },
  {
   "cell_type": "markdown",
   "metadata": {},
   "source": [
    "我們也可以透過調整參數，來得到不同得資料結果，如以下結果能得到歐洲倫敦的時間"
   ]
  },
  {
   "cell_type": "code",
   "execution_count": 12,
   "metadata": {
    "ExecuteTime": {
     "end_time": "2021-12-24T08:59:58.309722Z",
     "start_time": "2021-12-24T08:59:58.147558Z"
    }
   },
   "outputs": [
    {
     "data": {
      "text/plain": [
       "{'abbreviation': 'GMT',\n",
       " 'client_ip': '118.165.3.33',\n",
       " 'datetime': '2021-12-25T03:57:14.517359+00:00',\n",
       " 'day_of_week': 6,\n",
       " 'day_of_year': 359,\n",
       " 'dst': False,\n",
       " 'dst_from': None,\n",
       " 'dst_offset': 0,\n",
       " 'dst_until': None,\n",
       " 'raw_offset': 0,\n",
       " 'timezone': 'Europe/London',\n",
       " 'unixtime': 1640404634,\n",
       " 'utc_datetime': '2021-12-25T03:57:14.517359+00:00',\n",
       " 'utc_offset': '+00:00',\n",
       " 'week_number': 51}"
      ]
     },
     "execution_count": 12,
     "metadata": {},
     "output_type": "execute_result"
    }
   ],
   "source": [
    "response = requests.get(\"http://worldtimeapi.org/api/timezone/Europe/London\")\n",
    "london_time = response.json()\n",
    "london_time"
   ]
  },
  {
   "cell_type": "code",
   "execution_count": 13,
   "metadata": {
    "ExecuteTime": {
     "end_time": "2021-12-24T08:59:02.978971Z",
     "start_time": "2021-12-24T08:59:02.551611Z"
    }
   },
   "outputs": [],
   "source": [
    "# 請於進行下面的測驗前執行此 cell，以將此課程的輔助函式載入\n",
    "from evaluator_script import evaluator_script\n",
    "exec(evaluator_script)"
   ]
  },
  {
   "cell_type": "markdown",
   "metadata": {},
   "source": [
    "## 1.2 小測驗：修改 API 參數\n",
    "小測驗：請透過修改前面的 wordtimeapi 得到現在，在美國（America）的紐約（New_York）的時間，並且把結果放在變數 `new_york_time`"
   ]
  },
  {
   "cell_type": "code",
   "execution_count": 14,
   "metadata": {
    "ExecuteTime": {
     "end_time": "2021-12-24T09:00:49.045877Z",
     "start_time": "2021-12-24T09:00:48.752713Z"
    }
   },
   "outputs": [
    {
     "name": "stdout",
     "output_type": "stream",
     "text": [
      "測試失敗，請檢查變數 new_york_time 並且再試一次\n",
      "你可以執行 hint 或 answer 來取得提示\n"
     ]
    }
   ],
   "source": [
    "new_york_time = requests.get(\"http://worldtimeapi.org/api/timezone/Europe/London\").json()\n",
    "\n",
    "check_get_new_york_time()"
   ]
  },
  {
   "cell_type": "code",
   "execution_count": 15,
   "metadata": {
    "ExecuteTime": {
     "end_time": "2021-12-24T09:00:50.974603Z",
     "start_time": "2021-12-24T09:00:50.967664Z"
    }
   },
   "outputs": [
    {
     "name": "stdout",
     "output_type": "stream",
     "text": [
      "倫敦（London）是在歐洲（Europe），紐約（New_York）是在美洲（America）\n",
      "想想看 \"http://worldtimeapi.org/api/timezone/Europe/London\" 這個網址，要怎麼改才會變成在美洲的紐約呢？\n"
     ]
    }
   ],
   "source": [
    "hint_get_new_york_time()"
   ]
  },
  {
   "cell_type": "code",
   "execution_count": 16,
   "metadata": {
    "ExecuteTime": {
     "end_time": "2021-12-24T09:00:59.528599Z",
     "start_time": "2021-12-24T09:00:59.521492Z"
    }
   },
   "outputs": [
    {
     "name": "stdout",
     "output_type": "stream",
     "text": [
      "#最佳做法\n",
      "def get_new_york_time():\n",
      "    return requests.get(\"http://worldtimeapi.org/api/timezone/America/New_York\").json()\n"
     ]
    }
   ],
   "source": [
    "answer_get_new_york_time()"
   ]
  },
  {
   "cell_type": "markdown",
   "metadata": {},
   "source": [
    "## 1.3 JSON 格式的轉換\n",
    "要解讀 JSON 格式，你可以使用 `response.json()` 把資料解碼為 Python 的 `Dict` 格式"
   ]
  },
  {
   "cell_type": "code",
   "execution_count": 26,
   "metadata": {
    "ExecuteTime": {
     "end_time": "2021-12-24T09:01:01.008475Z",
     "start_time": "2021-12-24T09:01:00.996433Z"
    }
   },
   "outputs": [
    {
     "name": "stdout",
     "output_type": "stream",
     "text": [
      "{'abbreviation': 'GMT', 'client_ip': '118.165.3.33', 'datetime': '2021-12-25T03:57:14.517359+00:00', 'day_of_week': 6, 'day_of_year': 359, 'dst': False, 'dst_from': None, 'dst_offset': 0, 'dst_until': None, 'raw_offset': 0, 'timezone': 'Europe/London', 'unixtime': 1640404634, 'utc_datetime': '2021-12-25T03:57:14.517359+00:00', 'utc_offset': '+00:00', 'week_number': 51}\n",
      "\n",
      " json 格式的 python 字典\n"
     ]
    }
   ],
   "source": [
    "json_dict = response.json()\n",
    "print(json_dict)\n",
    "\n",
    "isinstance(json_dict, dict) and print(\"\\n json 格式的 python 字典\")"
   ]
  },
  {
   "cell_type": "markdown",
   "metadata": {},
   "source": [
    "或者是使用 `json` 函式庫將字串(str) 所描述的JSON格式轉換成python的字典"
   ]
  },
  {
   "cell_type": "code",
   "execution_count": 27,
   "metadata": {
    "ExecuteTime": {
     "end_time": "2021-12-24T09:01:01.865501Z",
     "start_time": "2021-12-24T09:01:01.859055Z"
    }
   },
   "outputs": [
    {
     "name": "stdout",
     "output_type": "stream",
     "text": [
      "{'abbreviation': 'GMT', 'client_ip': '118.165.3.33', 'datetime': '2021-12-25T03:57:14.517359+00:00', 'day_of_week': 6, 'day_of_year': 359, 'dst': False, 'dst_from': None, 'dst_offset': 0, 'dst_until': None, 'raw_offset': 0, 'timezone': 'Europe/London', 'unixtime': 1640404634, 'utc_datetime': '2021-12-25T03:57:14.517359+00:00', 'utc_offset': '+00:00', 'week_number': 51}\n",
      "\n",
      " json 格式的 python 字典\n"
     ]
    }
   ],
   "source": [
    "import json\n",
    "json_dict = json.loads(response.text)\n",
    "print(json_dict)\n",
    "\n",
    "isinstance(json_dict, dict) and print(\"\\n json 格式的 python 字典\")"
   ]
  },
  {
   "cell_type": "markdown",
   "metadata": {},
   "source": [
    "當然，要轉回去也可以，這樣能方便你傳送到其它應用程式。\n",
    "\n",
    "多數的 Python API 套件都會自動幫你做 `Dict` 與 `JSON` 之間的格式轉換。"
   ]
  },
  {
   "cell_type": "code",
   "execution_count": 21,
   "metadata": {
    "ExecuteTime": {
     "end_time": "2021-12-24T09:01:02.472061Z",
     "start_time": "2021-12-24T09:01:02.462151Z"
    }
   },
   "outputs": [
    {
     "data": {
      "text/plain": [
       "'{\"abbreviation\": \"GMT\", \"client_ip\": \"118.165.3.33\", \"datetime\": \"2021-12-25T03:57:14.517359+00:00\", \"day_of_week\": 6, \"day_of_year\": 359, \"dst\": false, \"dst_from\": null, \"dst_offset\": 0, \"dst_until\": null, \"raw_offset\": 0, \"timezone\": \"Europe/London\", \"unixtime\": 1640404634, \"utc_datetime\": \"2021-12-25T03:57:14.517359+00:00\", \"utc_offset\": \"+00:00\", \"week_number\": 51}'"
      ]
     },
     "execution_count": 21,
     "metadata": {},
     "output_type": "execute_result"
    }
   ],
   "source": [
    "json_raw = json.dumps(json_data)\n",
    "json_raw"
   ]
  },
  {
   "cell_type": "markdown",
   "metadata": {
    "ExecuteTime": {
     "end_time": "2021-12-23T13:58:00.369709Z",
     "start_time": "2021-12-23T13:58:00.364527Z"
    }
   },
   "source": [
    "# 下一步\n",
    "學會 API 與 JSON 後，接下來我們要來認識常見的第三方 API\n",
    "\n",
    "### [👉 前往【2. 常見的第三方 API 介紹，以 Google 為例】](./2_intro_to_3rd_API.ipynb)"
   ]
  },
  {
   "cell_type": "markdown",
   "metadata": {
    "ExecuteTime": {
     "end_time": "2021-12-23T13:58:00.787467Z",
     "start_time": "2021-12-23T13:58:00.783869Z"
    }
   },
   "source": [
    "## [課程回饋表單（請點我填寫）](https://docs.google.com/forms/d/e/1FAIpQLSfylhNu_ERlGM-Qpto6xHJNM-hvuhKSaTWf1DdpubHGMoqabw/viewform?usp=sf_link)\n",
    "本課程為 [怡升 EasonC13](https://github.com/EasonC13) 在「線上課程設計」製作的期末專題。<br>\n",
    "請你填寫回饋表單，幫助課程未來能做得更好。<br>如果有任何改進，也歡迎[至 GitHub 發 PR](https://github.com/EasonC13/online_course_zh_intro_to_3rd_api_and_sheet_API_implementation)"
   ]
  },
  {
   "cell_type": "markdown",
   "metadata": {},
   "source": [
    "### [課程錯誤回報表單（請點我填寫）](https://docs.google.com/forms/d/e/1FAIpQLSfVIGFf-DMYVVp_HDJuVH1eTRxxCJpSelW2BhZTnY8zAPFUoQ/viewform?usp=sf_link)\n",
    "如果遇到任何錯誤，請你填寫表單進行回報"
   ]
  },
  {
   "cell_type": "markdown",
   "metadata": {
    "ExecuteTime": {
     "end_time": "2021-12-23T13:58:01.013377Z",
     "start_time": "2021-12-23T13:58:01.008043Z"
    }
   },
   "source": [
    "## 延伸學習與閱讀資源\n",
    "TBA"
   ]
  }
 ],
 "metadata": {
  "kernelspec": {
   "display_name": "Python 3",
   "language": "python",
   "name": "python3"
  },
  "language_info": {
   "codemirror_mode": {
    "name": "ipython",
    "version": 3
   },
   "file_extension": ".py",
   "mimetype": "text/x-python",
   "name": "python",
   "nbconvert_exporter": "python",
   "pygments_lexer": "ipython3",
   "version": "3.7.10"
  },
  "toc": {
   "base_numbering": 1,
   "nav_menu": {},
   "number_sections": true,
   "sideBar": false,
   "skip_h1_title": false,
   "title_cell": "Table of Contents",
   "title_sidebar": "Contents",
   "toc_cell": false,
   "toc_position": {
    "height": "369.75px",
    "left": "27.9883px",
    "top": "111.059px",
    "width": "201.598px"
   },
   "toc_section_display": false,
   "toc_window_display": false
  }
 },
 "nbformat": 4,
 "nbformat_minor": 4
}
