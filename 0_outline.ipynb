{
 "cells": [
  {
   "cell_type": "markdown",
   "metadata": {},
   "source": [
    "# 第三方 API 服務介紹及 Google Sheet API 串接實作\n",
    "> 此為自主學習線上課程<br>\n",
    "> 預計完成時間：60 分鐘\n",
    "\n",
    "<!--## 課程介紹\n",
    "TBA-->\n",
    "\n",
    "## 學習目標\n",
    "知道串接第三方服務的便利性及重要性，且有能力自行串接 Google Sheet API 在自己的 Python 應用程式中\n",
    "\n",
    "## 課程介紹\n",
    "填寫過 Google 表單嗎？這些數據會被匯出到 Google Sheet 上。<br>\n",
    "除此之外，多數企業的數據也都使用 Excel 處理。<br>\n",
    "上完這堂課後，你不僅會學會 API 的知識，更會具備使用 Python 處理 Google Sheet 上的資料的能力。<br>\n",
    "讓你能夠將繁瑣冗長的 Google Sheet 操作、確認流程，使用 Python 程式碼自動化。<br>\n",
    "\n",
    "## 學習條件：\n",
    "修過至少 2 學分或 12 小時之 Python 程式設計者。<br>\n",
    "即理解 Python 基礎語法，想要學習如何串接 Google 第三方服務的同學。<br>如果了解 Pandas 基礎操作佳，但不懂也沒關係\n",
    "\n",
    "## 系統需求\n",
    "請使用 Python 3.7 以上的版本\n",
    "<br>gspread version: 4.0.1"
   ]
  },
  {
   "cell_type": "markdown",
   "metadata": {
    "ExecuteTime": {
     "end_time": "2021-12-22T06:26:22.775262Z",
     "start_time": "2021-12-22T06:26:22.770168Z"
    }
   },
   "source": [
    "## 與線上課程設計課程內容連結的地方？\n",
    "本課程仿照 Kaggle 的線上課程，使用 Jupyter Notebook 進行嵌入式即時評量<br>\n",
    "讓學生可以直接在 Jupyter Notebook 看教學、看影片、實作、查看回饋，並將網頁保存作為未來使用參考"
   ]
  },
  {
   "cell_type": "markdown",
   "metadata": {},
   "source": [
    "## 課程大綱\n",
    "- [1. 什麼是 API?](./1_what_is_API.ipynb)\n",
    "- [2. 常見的第三方 API，以 Google 為例](2_intro_to_3rd_API.ipynb)\n",
    "- [3_connect_google_sheet_API.ipynb](3_connect_google_sheet_API.ipynb)\n",
    "- [4. Google Sheet API 進階應用](4_use_google_sheet_API.ipynb)"
   ]
  },
  {
   "cell_type": "markdown",
   "metadata": {},
   "source": [
    "## 讓我們開始課程吧\n",
    "### [👉 前往【1. 什麼是 API?】](./1_what_is_API.ipynb)"
   ]
  }
 ],
 "metadata": {
  "kernelspec": {
   "display_name": "Python 3",
   "language": "python",
   "name": "python3"
  },
  "language_info": {
   "codemirror_mode": {
    "name": "ipython",
    "version": 3
   },
   "file_extension": ".py",
   "mimetype": "text/x-python",
   "name": "python",
   "nbconvert_exporter": "python",
   "pygments_lexer": "ipython3",
   "version": "3.8.3"
  },
  "toc": {
   "base_numbering": 1,
   "nav_menu": {},
   "number_sections": true,
   "sideBar": false,
   "skip_h1_title": false,
   "title_cell": "Table of Contents",
   "title_sidebar": "Contents",
   "toc_cell": false,
   "toc_position": {
    "height": "369.75px",
    "left": "27.9883px",
    "top": "111.059px",
    "width": "201.598px"
   },
   "toc_section_display": false,
   "toc_window_display": false
  }
 },
 "nbformat": 4,
 "nbformat_minor": 4
}
